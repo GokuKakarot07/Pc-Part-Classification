{
 "cells": [
  {
   "cell_type": "code",
   "execution_count": 1,
   "id": "12d63d8d",
   "metadata": {},
   "outputs": [],
   "source": [
    "import splitfolders"
   ]
  },
  {
   "cell_type": "code",
   "execution_count": 2,
   "id": "ed23283f",
   "metadata": {},
   "outputs": [],
   "source": [
    "input_folder=\"pc_parts/\"\n",
    "output_folder=\"image/\""
   ]
  },
  {
   "cell_type": "code",
   "execution_count": 3,
   "id": "62bfcedf",
   "metadata": {},
   "outputs": [
    {
     "name": "stderr",
     "output_type": "stream",
     "text": [
      "Copying files: 3279 files [00:48, 67.34 files/s]\n"
     ]
    }
   ],
   "source": [
    "splitfolders.ratio(input_folder,output_folder,seed=42,ratio=(.7, .2,.1),group_prefix=None)"
   ]
  },
  {
   "cell_type": "code",
   "execution_count": null,
   "id": "c85378ab",
   "metadata": {},
   "outputs": [],
   "source": []
  }
 ],
 "metadata": {
  "kernelspec": {
   "display_name": "Python 3 (ipykernel)",
   "language": "python",
   "name": "python3"
  },
  "language_info": {
   "codemirror_mode": {
    "name": "ipython",
    "version": 3
   },
   "file_extension": ".py",
   "mimetype": "text/x-python",
   "name": "python",
   "nbconvert_exporter": "python",
   "pygments_lexer": "ipython3",
   "version": "3.10.9"
  }
 },
 "nbformat": 4,
 "nbformat_minor": 5
}
